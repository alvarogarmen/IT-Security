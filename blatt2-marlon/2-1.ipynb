{
 "cells": [
  {
   "cell_type": "code",
   "execution_count": 6,
   "metadata": {},
   "outputs": [
    {
     "name": "stdout",
     "output_type": "stream",
     "text": [
      "['ACHTUNG:', '    Aufgrund von Problemen mit Telnet unter Windows wurden die Aufgaben am 2.3.2021 angepasst.', '    Wenn Nachrichten an den Server gesendet werden MUSS nun zum Beenden jeder Übertragung ein Zeilenumbruch gesendet werden.']\n",
      "['Wer bist du? (Moodle-Email)']\n",
      "['Hallo hu256@stud.uni-heidelberg.de. ', '', 'Deine Flag bekommst XOR verschlüsselt mit einem Diffie-Hellman Key (128 bit).', 'Lass uns diese Parameter verwenden:', 'prime = 250530870200134746079156178599997129339', 'generator = 2', '', 'Mein X ist:', '81285910558388422408306785170699708992', 'Was ist dein X?']\n",
      "['Cool!', 'Viel Spaß mit deiner verschlüsselten Flag:', '472559294588922564337698190505049576801222923979102625979128765152820300509927195805942191071555791732925864360575828348637494742778075095314949722922363795030960387046921', '', 'PS: Die Großen benutzen little endianness ;)']\n",
      "flag = 472559294588922564337698190505049576801222923979102625979128765152820300509927195805942191071555791732925864360575828348637494742778075095314949722922363795030960387046921\n",
      "key = 81285910558388422408306785170699708992\n",
      "b'ITSEC{caa7fbd1f55a8830f06ff6cf88e1d24203699a84f72ee6bf291037de04bce577}'\n"
     ]
    }
   ],
   "source": [
    "import socket\n",
    "s = socket.socket(socket.AF_INET, socket.SOCK_STREAM)\n",
    "s.connect((\"129.206.5.206\", 30300))\n",
    "\n",
    "output = s.recv(1024).decode().strip().split('\\n')\n",
    "print(output)\n",
    "\n",
    "output = s.recv(1024).decode().strip().split('\\n')\n",
    "print(output)\n",
    "\n",
    "message = \"hu256@stud.uni-heidelberg.de\\n\"\n",
    "s.send(message.encode())\n",
    "\n",
    "output = s.recv(1024).decode().strip().split('\\n')\n",
    "print(output)\n",
    "\n",
    "for line in output:\n",
    "    if \"prime =\" in line:\n",
    "        prime = int(line.split('=')[1].strip())\n",
    "    elif \"generator =\" in line:\n",
    "        generator = int(line.split('=')[1].strip())\n",
    "    elif \"Mein X ist:\" in line:\n",
    "        bob_x = int(output[output.index(line) + 1])\n",
    "\n",
    "#print(prime)\n",
    "#print(generator)\n",
    "#print(bob_x)\n",
    "\n",
    "w = 1\n",
    "\n",
    "alice_x = (generator ** w) % prime\n",
    "#print(alice_x)\n",
    "\n",
    "message = str(alice_x) + \"\\n\"\n",
    "s.send(message.encode())\n",
    "\n",
    "output = s.recv(1024).decode().strip().split('\\n')\n",
    "print(output)\n",
    "\n",
    "encoded_flag = int(output[2])\n",
    "\n",
    "print(\"flag = \" + str(encoded_flag))\n",
    "\n",
    "session_key = (bob_x ** w) % prime\n",
    "print(\"key = \" + str(session_key))\n",
    "\n",
    "decoded_flag = encoded_flag ^ session_key\n",
    "\n",
    "print(decoded_flag.to_bytes(71, byteorder=\"little\"))\n",
    "\n",
    "\n",
    "\n"
   ]
  }
 ],
 "metadata": {
  "kernelspec": {
   "display_name": "Python 3",
   "language": "python",
   "name": "python3"
  },
  "language_info": {
   "codemirror_mode": {
    "name": "ipython",
    "version": 3
   },
   "file_extension": ".py",
   "mimetype": "text/x-python",
   "name": "python",
   "nbconvert_exporter": "python",
   "pygments_lexer": "ipython3",
   "version": "3.0.0"
  }
 },
 "nbformat": 4,
 "nbformat_minor": 2
}
