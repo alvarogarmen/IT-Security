{
 "cells": [
  {
   "cell_type": "code",
   "execution_count": 1,
   "metadata": {},
   "outputs": [
    {
     "name": "stdout",
     "output_type": "stream",
     "text": [
      "ITSEC{bTpczUGOJADShOAr2hCtVz+7fh/6w0GHpX4tBbOOTpA=}\n"
     ]
    }
   ],
   "source": [
    "from hashlib import sha1\n",
    "from binascii import hexlify\n",
    "\n",
    "def encrypt(salt1_hex, salt2_hex, password):\n",
    "    salt1_byte = bytes.fromhex(salt1_hex)\n",
    "    salt2_byte = bytes.fromhex(salt2_hex)\n",
    "\n",
    "    bytes1 = sha1(password.encode(\"utf-8\")).digest()\n",
    "    concat1 = salt1_byte + salt2_byte\n",
    "    concat2 = sha1(sha1(password.encode(\"utf-8\")).digest()).digest()\n",
    "    \n",
    "    bytes2 = bytearray()\n",
    "    bytes2.extend(concat1)\n",
    "    bytes2.extend(concat2)\n",
    "    bytes2 = sha1(bytes2).digest()\n",
    "\n",
    "    hash = bytearray(x ^ y for x,y in zip(bytes1, bytes2))\n",
    "    return hash\n",
    "\n",
    "def test_passwords(passwordlist_file):\n",
    "    with open(passwordlist_file, 'r') as file:\n",
    "        lines = file.readlines()\n",
    "\n",
    "    for line in lines:\n",
    "        current = line.strip()\n",
    "        encrypted_current = encrypt(salt1_hex, salt2_hex, current)\n",
    "        possible_password = hexlify(encrypted_current).decode('utf-8')\n",
    "        if possible_password == password:\n",
    "            print(current)\n",
    "\n",
    "password = 'ea1ef79fd4c32df2eeec6e04464f3bd8d67e1763'\n",
    "salt1_hex = '5042383540212125'\n",
    "salt2_hex = '33705e63576b335c536e5128'\n",
    "\n",
    "test_passwords('passwordlist.txt')\n",
    "\n"
   ]
  }
 ],
 "metadata": {
  "kernelspec": {
   "display_name": "Python 3",
   "language": "python",
   "name": "python3"
  },
  "language_info": {
   "codemirror_mode": {
    "name": "ipython",
    "version": 3
   },
   "file_extension": ".py",
   "mimetype": "text/x-python",
   "name": "python",
   "nbconvert_exporter": "python",
   "pygments_lexer": "ipython3",
   "version": "3.10.12"
  }
 },
 "nbformat": 4,
 "nbformat_minor": 2
}
